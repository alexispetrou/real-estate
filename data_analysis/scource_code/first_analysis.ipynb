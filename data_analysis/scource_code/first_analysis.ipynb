{
 "cells": [
  {
   "cell_type": "markdown",
   "id": "5c37bd24",
   "metadata": {},
   "source": [
    "## Διαβάζουμε το dataset"
   ]
  },
  {
   "cell_type": "code",
   "execution_count": 3,
   "id": "47c32e30",
   "metadata": {},
   "outputs": [],
   "source": [
    "import pandas as pd\n",
    "\n",
    "df = pd.read_excel('../data/housing_data_gr.xlsx')"
   ]
  },
  {
   "cell_type": "code",
   "execution_count": 4,
   "id": "bf33aa7d",
   "metadata": {},
   "outputs": [
    {
     "data": {
      "text/plain": [
       "20000"
      ]
     },
     "execution_count": 4,
     "metadata": {},
     "output_type": "execute_result"
    }
   ],
   "source": [
    "len(df)"
   ]
  },
  {
   "cell_type": "markdown",
   "id": "d24ae783",
   "metadata": {},
   "source": [
    "## Αρχικά θα διαγράψουμε τα χαρακτηριστικά που δεν θέλουμε"
   ]
  },
  {
   "cell_type": "code",
   "execution_count": 5,
   "id": "d8dcd86f",
   "metadata": {},
   "outputs": [],
   "source": [
    "df=df.drop(columns=['deleted_at','deleted',\"location_region\",\"res_address\"])"
   ]
  },
  {
   "cell_type": "markdown",
   "id": "712dfc36",
   "metadata": {},
   "source": [
    "### Θα διαχειριστούμε τα προβλήμτατ του dataset π.χ στις θεσεις parking null=false"
   ]
  },
  {
   "cell_type": "code",
   "execution_count": 6,
   "id": "c98dbca1",
   "metadata": {},
   "outputs": [],
   "source": [
    "df['parking'] = df['parking'].notna()\n",
    "df['parking'] = df['parking'].astype(int)\n",
    "\n"
   ]
  },
  {
   "cell_type": "markdown",
   "id": "381e13ef",
   "metadata": {},
   "source": [
    "## Θα φτιάξω μια στήλη για τις τιμές ενοικίων"
   ]
  },
  {
   "cell_type": "code",
   "execution_count": 7,
   "id": "5a20a22a",
   "metadata": {},
   "outputs": [],
   "source": [
    "df[\"rent_price\"]=(df[\"res_price\"]*0.005).astype(int)"
   ]
  },
  {
   "cell_type": "markdown",
   "id": "e56010d4",
   "metadata": {},
   "source": [
    "### Διαγραφω τα records που περιεχουν null τιμές"
   ]
  },
  {
   "cell_type": "code",
   "execution_count": 8,
   "id": "f7f34266",
   "metadata": {},
   "outputs": [],
   "source": [
    "df = df.dropna()"
   ]
  },
  {
   "cell_type": "markdown",
   "id": "42bfa221",
   "metadata": {},
   "source": [
    "### Διαγραφω τα διπλοτυπα"
   ]
  },
  {
   "cell_type": "code",
   "execution_count": 9,
   "id": "3ab430a0",
   "metadata": {},
   "outputs": [],
   "source": [
    "duplicate_rows = df.duplicated().sum()\n",
    "if duplicate_rows>0:\n",
    "    df=df.drop_duplicates()"
   ]
  },
  {
   "cell_type": "markdown",
   "id": "63f652ed",
   "metadata": {},
   "source": [
    "### Κωδικοποιω τα κατηγορικά"
   ]
  },
  {
   "cell_type": "code",
   "execution_count": 10,
   "id": "55ab048d",
   "metadata": {},
   "outputs": [],
   "source": [
    "level_mapping = {\n",
    "    \"Ισόγειο\": 0,\n",
    "    \"1ος\": 1,\n",
    "    \"2ος\": 2,\n",
    "    \"3ος\": 3,\n",
    "    \"4ος\": 4,\n",
    "    \"5ος\": 5,\n",
    "    \"6ος\": 6,\n",
    "    \"7ος\": 7,\n",
    "    \"8ος\": 8\n",
    "}\n",
    "df=df[df[\"res_type\"]!=\"Κτίριο\"]\n",
    "    \n",
    "df[\"levels\"] = df[\"levels\"].map(level_mapping)\n",
    "df['levels'] = df['levels'].fillna(0)"
   ]
  },
  {
   "cell_type": "code",
   "execution_count": 11,
   "id": "ab14c8e4",
   "metadata": {},
   "outputs": [],
   "source": [
    "df=pd.get_dummies(df, columns=['res_type'], prefix='res_type', drop_first=True)\n",
    "cols = [col for col in df.columns if col.startswith('res_type_')]\n",
    "df[cols] = df[cols].astype(int)\n"
   ]
  },
  {
   "cell_type": "code",
   "execution_count": 12,
   "id": "7a445869",
   "metadata": {},
   "outputs": [],
   "source": [
    "df['res_date'] = pd.to_datetime(df['res_date'], errors='coerce')\n",
    "\n",
    "df['res_date'] = df['res_date'].dt.year"
   ]
  },
  {
   "cell_type": "code",
   "execution_count": 13,
   "id": "3f98aa0f",
   "metadata": {},
   "outputs": [],
   "source": [
    "df = pd.get_dummies(df, columns=['location_name'], prefix='location_name', drop_first=True)\n",
    "\n",
    "cols = [col for col in df.columns if col.startswith('location_name')]\n",
    "df[cols] = df[cols].astype(int)"
   ]
  },
  {
   "cell_type": "code",
   "execution_count": 14,
   "id": "19a5bfce",
   "metadata": {},
   "outputs": [],
   "source": [
    "ordinal_mapping = {\n",
    "    'Α+': 10,\n",
    "    'Α': 9,\n",
    "    'Β+': 8,\n",
    "    'Β': 7,\n",
    "    'Γ': 6,\n",
    "    'Δ': 5,\n",
    "    'Ε': 4,\n",
    "    'Ζ': 3,\n",
    "    'Η': 2,\n",
    "    'Μη αποδοτικό': 1,      \n",
    "    'Εκρεμμεί': 0,          \n",
    "    'Εξαιρείται': -1       \n",
    "}\n",
    "\n",
    "df['energyclass'] = df['energyclass'].map(ordinal_mapping)"
   ]
  },
  {
   "cell_type": "code",
   "execution_count": 15,
   "id": "aa6a7b6f",
   "metadata": {},
   "outputs": [],
   "source": [
    "condition_mapping = {\n",
    "    'Νεόδμητο': 8,             # Top condition (brand new)\n",
    "    'Άριστη': 7,               # Excellent condition\n",
    "    'Ανακαινισμένο': 6,        # Recently renovated, very good\n",
    "    'Καλή': 5,                 # Good, well-maintained\n",
    "    'Χρήζει ανακαίνισης': 4,   # Needs renovation, but functional\n",
    "    'Ημιτελές': 3,             # Incomplete, might need significant work to finish\n",
    "    'Υπο κατασκευή': 2,        # Not yet habitable\n",
    "    'Άλλη κατάσταση': 1,      # Special case, could mean anything, assigning a low but distinct value\n",
    "    # You could also consider np.nan for 'Άλλη κατάσταση' if it truly means unknown/unspecifiable.\n",
    "}\n",
    "\n",
    "df['status'] = df['status'].map(condition_mapping)"
   ]
  },
  {
   "cell_type": "code",
   "execution_count": 16,
   "id": "0c5f4c6f",
   "metadata": {},
   "outputs": [],
   "source": [
    "df.to_excel('../data/dataset_ready_for_pre_proc.xlsx', index=False)"
   ]
  }
 ],
 "metadata": {
  "kernelspec": {
   "display_name": "Python 3",
   "language": "python",
   "name": "python3"
  },
  "language_info": {
   "codemirror_mode": {
    "name": "ipython",
    "version": 3
   },
   "file_extension": ".py",
   "mimetype": "text/x-python",
   "name": "python",
   "nbconvert_exporter": "python",
   "pygments_lexer": "ipython3",
   "version": "3.10.11"
  }
 },
 "nbformat": 4,
 "nbformat_minor": 5
}
