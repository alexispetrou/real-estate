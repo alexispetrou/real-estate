{
 "cells": [
  {
   "cell_type": "code",
   "execution_count": 36,
   "id": "17c3b34b",
   "metadata": {},
   "outputs": [],
   "source": [
    "import pandas as pd\n",
    "\n",
    "df = pd.read_excel('../data/dataset_ready_for_pre_proc.xlsx')"
   ]
  },
  {
   "cell_type": "code",
   "execution_count": 37,
   "id": "968f9a95",
   "metadata": {},
   "outputs": [
    {
     "name": "stdout",
     "output_type": "stream",
     "text": [
      "<class 'pandas.core.frame.DataFrame'>\n",
      "RangeIndex: 14824 entries, 0 to 14823\n",
      "Data columns (total 24 columns):\n",
      " #   Column             Non-Null Count  Dtype \n",
      "---  ------             --------------  ----- \n",
      " 0   location_name      14824 non-null  object\n",
      " 1   location_region    14824 non-null  object\n",
      " 2   res_date           14824 non-null  object\n",
      " 3   res_type           14824 non-null  object\n",
      " 4   res_address        14824 non-null  object\n",
      " 5   res_price          14824 non-null  int64 \n",
      " 6   res_price_sqr      14824 non-null  int64 \n",
      " 7   res_sqr            14824 non-null  int64 \n",
      " 8   construction_year  14824 non-null  int64 \n",
      " 9   levels             14824 non-null  int64 \n",
      " 10  bedrooms           14824 non-null  int64 \n",
      " 11  bathrooms          14824 non-null  int64 \n",
      " 12  status             14824 non-null  object\n",
      " 13  energyclass        14824 non-null  object\n",
      " 14  auto_heating       14824 non-null  int64 \n",
      " 15  solar              14824 non-null  int64 \n",
      " 16  cooling            14824 non-null  int64 \n",
      " 17  safe_door          14824 non-null  int64 \n",
      " 18  gas                14824 non-null  int64 \n",
      " 19  fireplace          14824 non-null  int64 \n",
      " 20  furniture          14824 non-null  int64 \n",
      " 21  student            14824 non-null  int64 \n",
      " 22  parking            14824 non-null  object\n",
      " 23  rent_price         14824 non-null  int64 \n",
      "dtypes: int64(16), object(8)\n",
      "memory usage: 2.7+ MB\n"
     ]
    }
   ],
   "source": [
    "df.info()"
   ]
  },
  {
   "cell_type": "code",
   "execution_count": 38,
   "id": "07561a79",
   "metadata": {},
   "outputs": [],
   "source": [
    "X = df.drop(columns=[\"res_price\",\"rent_price\",\"res_price_sqr\"], axis=1)\n",
    "y = df[[\"res_price\", \"rent_price\"]]\n"
   ]
  },
  {
   "cell_type": "code",
   "execution_count": 39,
   "id": "d1e88469",
   "metadata": {},
   "outputs": [
    {
     "data": {
      "text/plain": [
       "count    14824.000000\n",
       "mean         1.812466\n",
       "std          1.894980\n",
       "min          0.000000\n",
       "25%          0.000000\n",
       "50%          1.000000\n",
       "75%          3.000000\n",
       "max          8.000000\n",
       "Name: levels, dtype: float64"
      ]
     },
     "execution_count": 39,
     "metadata": {},
     "output_type": "execute_result"
    }
   ],
   "source": [
    "X[\"levels\"].describe()"
   ]
  },
  {
   "cell_type": "code",
   "execution_count": 40,
   "id": "fc52de09",
   "metadata": {},
   "outputs": [],
   "source": [
    "from sklearn.model_selection import train_test_split\n",
    "\n",
    "X_temp, X_test, y_temp, y_test = train_test_split(X, y, test_size=0.2, random_state=42)\n",
    "\n",
    "X_train, X_val, y_train, y_val = train_test_split(X_temp, y_temp, test_size=0.125, random_state=42)"
   ]
  },
  {
   "cell_type": "code",
   "execution_count": 41,
   "id": "541d2e6f",
   "metadata": {},
   "outputs": [],
   "source": [
    "y_train_rent=y_train[\"rent_price\"]\n",
    "y_train_sale=y_train[\"res_price\"]\n",
    "\n",
    "y_val_rent=y_val[\"rent_price\"]\n",
    "y_val_sale=y_val[\"res_price\"]\n",
    "\n",
    "y_test_rent=y_test[\"rent_price\"]\n",
    "y_test_sale=y_test[\"res_price\"]"
   ]
  },
  {
   "cell_type": "markdown",
   "id": "3535ba45",
   "metadata": {},
   "source": [
    "# i start data engineering here"
   ]
  },
  {
   "cell_type": "code",
   "execution_count": 42,
   "id": "dd439899",
   "metadata": {},
   "outputs": [
    {
     "data": {
      "text/plain": [
       "['res_sqr',\n",
       " 'construction_year',\n",
       " 'levels',\n",
       " 'bedrooms',\n",
       " 'bathrooms',\n",
       " 'auto_heating',\n",
       " 'solar',\n",
       " 'cooling',\n",
       " 'safe_door',\n",
       " 'gas',\n",
       " 'fireplace',\n",
       " 'furniture',\n",
       " 'student']"
      ]
     },
     "execution_count": 42,
     "metadata": {},
     "output_type": "execute_result"
    }
   ],
   "source": [
    "numerical_features=X.select_dtypes(include=['float64', 'int64']).columns.tolist()\n",
    "numerical_features"
   ]
  },
  {
   "cell_type": "code",
   "execution_count": 43,
   "id": "802eb2bf",
   "metadata": {},
   "outputs": [
    {
     "data": {
      "text/html": [
       "<div>\n",
       "<style scoped>\n",
       "    .dataframe tbody tr th:only-of-type {\n",
       "        vertical-align: middle;\n",
       "    }\n",
       "\n",
       "    .dataframe tbody tr th {\n",
       "        vertical-align: top;\n",
       "    }\n",
       "\n",
       "    .dataframe thead th {\n",
       "        text-align: right;\n",
       "    }\n",
       "</style>\n",
       "<table border=\"1\" class=\"dataframe\">\n",
       "  <thead>\n",
       "    <tr style=\"text-align: right;\">\n",
       "      <th></th>\n",
       "      <th>location_name</th>\n",
       "      <th>location_region</th>\n",
       "      <th>res_date</th>\n",
       "      <th>res_type</th>\n",
       "      <th>res_address</th>\n",
       "      <th>res_sqr</th>\n",
       "      <th>construction_year</th>\n",
       "      <th>levels</th>\n",
       "      <th>bedrooms</th>\n",
       "      <th>bathrooms</th>\n",
       "      <th>...</th>\n",
       "      <th>energyclass</th>\n",
       "      <th>auto_heating</th>\n",
       "      <th>solar</th>\n",
       "      <th>cooling</th>\n",
       "      <th>safe_door</th>\n",
       "      <th>gas</th>\n",
       "      <th>fireplace</th>\n",
       "      <th>furniture</th>\n",
       "      <th>student</th>\n",
       "      <th>parking</th>\n",
       "    </tr>\n",
       "  </thead>\n",
       "  <tbody>\n",
       "    <tr>\n",
       "      <th>3856</th>\n",
       "      <td>Βάρη - Βούλα - Βουλιαγμένη</td>\n",
       "      <td>Αττική</td>\n",
       "      <td>2022-03-22</td>\n",
       "      <td>Μονοκατοικία</td>\n",
       "      <td>Βάρη,Λαθούριζα</td>\n",
       "      <td>500</td>\n",
       "      <td>2010</td>\n",
       "      <td>0</td>\n",
       "      <td>6</td>\n",
       "      <td>5</td>\n",
       "      <td>...</td>\n",
       "      <td>Β+</td>\n",
       "      <td>0</td>\n",
       "      <td>0</td>\n",
       "      <td>1</td>\n",
       "      <td>1</td>\n",
       "      <td>0</td>\n",
       "      <td>0</td>\n",
       "      <td>0</td>\n",
       "      <td>0</td>\n",
       "      <td>False</td>\n",
       "    </tr>\n",
       "  </tbody>\n",
       "</table>\n",
       "<p>1 rows × 21 columns</p>\n",
       "</div>"
      ],
      "text/plain": [
       "                   location_name location_region    res_date      res_type  \\\n",
       "3856  Βάρη - Βούλα - Βουλιαγμένη          Αττική  2022-03-22  Μονοκατοικία   \n",
       "\n",
       "         res_address  res_sqr  construction_year  levels  bedrooms  bathrooms  \\\n",
       "3856  Βάρη,Λαθούριζα      500               2010       0         6          5   \n",
       "\n",
       "      ... energyclass auto_heating  solar  cooling  safe_door  gas  fireplace  \\\n",
       "3856  ...          Β+            0      0        1          1    0          0   \n",
       "\n",
       "      furniture  student  parking  \n",
       "3856          0        0    False  \n",
       "\n",
       "[1 rows x 21 columns]"
      ]
     },
     "execution_count": 43,
     "metadata": {},
     "output_type": "execute_result"
    }
   ],
   "source": [
    "X_train.head(1)"
   ]
  },
  {
   "cell_type": "code",
   "execution_count": null,
   "id": "e89f13e4",
   "metadata": {},
   "outputs": [],
   "source": [
    "actual_numerical=['res_sqr',\n",
    " 'construction_year',\n",
    " 'levels',\n",
    " 'bedrooms',\n",
    " 'bathrooms']"
   ]
  }
 ],
 "metadata": {
  "kernelspec": {
   "display_name": "Python 3",
   "language": "python",
   "name": "python3"
  },
  "language_info": {
   "codemirror_mode": {
    "name": "ipython",
    "version": 3
   },
   "file_extension": ".py",
   "mimetype": "text/x-python",
   "name": "python",
   "nbconvert_exporter": "python",
   "pygments_lexer": "ipython3",
   "version": "3.10.11"
  }
 },
 "nbformat": 4,
 "nbformat_minor": 5
}
