{
 "cells": [
  {
   "cell_type": "code",
   "execution_count": 1,
   "id": "17c3b34b",
   "metadata": {},
   "outputs": [],
   "source": [
    "import pandas as pd\n",
    "\n",
    "df = pd.read_excel('../data/dataset_ready_for_pre_proc.xlsx')"
   ]
  },
  {
   "cell_type": "code",
   "execution_count": 2,
   "id": "968f9a95",
   "metadata": {},
   "outputs": [
    {
     "name": "stdout",
     "output_type": "stream",
     "text": [
      "<class 'pandas.core.frame.DataFrame'>\n",
      "RangeIndex: 14820 entries, 0 to 14819\n",
      "Data columns (total 94 columns):\n",
      " #   Column                                      Non-Null Count  Dtype\n",
      "---  ------                                      --------------  -----\n",
      " 0   res_date                                    14820 non-null  int64\n",
      " 1   res_price                                   14820 non-null  int64\n",
      " 2   res_price_sqr                               14820 non-null  int64\n",
      " 3   res_sqr                                     14820 non-null  int64\n",
      " 4   construction_year                           14820 non-null  int64\n",
      " 5   levels                                      14820 non-null  int64\n",
      " 6   bedrooms                                    14820 non-null  int64\n",
      " 7   bathrooms                                   14820 non-null  int64\n",
      " 8   status                                      14820 non-null  int64\n",
      " 9   energyclass                                 14820 non-null  int64\n",
      " 10  auto_heating                                14820 non-null  int64\n",
      " 11  solar                                       14820 non-null  int64\n",
      " 12  cooling                                     14820 non-null  int64\n",
      " 13  safe_door                                   14820 non-null  int64\n",
      " 14  gas                                         14820 non-null  int64\n",
      " 15  fireplace                                   14820 non-null  int64\n",
      " 16  furniture                                   14820 non-null  int64\n",
      " 17  student                                     14820 non-null  int64\n",
      " 18  parking                                     14820 non-null  int64\n",
      " 19  rent_price                                  14820 non-null  int64\n",
      " 20  res_type_Μεζονέτα                           14820 non-null  int64\n",
      " 21  res_type_Μονοκατοικία                       14820 non-null  int64\n",
      " 22  res_type_Οικία                              14820 non-null  int64\n",
      " 23  location_name_Άγιος Δημήτριος               14820 non-null  int64\n",
      " 24  location_name_Άγιος Παύλος                  14820 non-null  int64\n",
      " 25  location_name_Άλιμος                        14820 non-null  int64\n",
      " 26  location_name_Ίλιον                         14820 non-null  int64\n",
      " 27  location_name_Αίγινα                        14820 non-null  int64\n",
      " 28  location_name_Αγία Παρασκευή                14820 non-null  int64\n",
      " 29  location_name_Αγιά Βαρβάρα                  14820 non-null  int64\n",
      " 30  location_name_Αθήνα                         14820 non-null  int64\n",
      " 31  location_name_Αιγάλεω                       14820 non-null  int64\n",
      " 32  location_name_Αργυρούπολη                   14820 non-null  int64\n",
      " 33  location_name_Ασπρόπυργος                   14820 non-null  int64\n",
      " 34  location_name_Αχαρνές                       14820 non-null  int64\n",
      " 35  location_name_Βάρη - Βούλα - Βουλιαγμένη    14820 non-null  int64\n",
      " 36  location_name_Βασιλικα                      14820 non-null  int64\n",
      " 37  location_name_Βριλήσσια                     14820 non-null  int64\n",
      " 38  location_name_Βύρωνας                       14820 non-null  int64\n",
      " 39  location_name_Γαλάτσι                       14820 non-null  int64\n",
      " 40  location_name_Γλυφάδα                       14820 non-null  int64\n",
      " 41  location_name_Δάφνη                         14820 non-null  int64\n",
      " 42  location_name_Δάφνη-Υμηττός                 14820 non-null  int64\n",
      " 43  location_name_Δήμος Εχεδώρου                14820 non-null  int64\n",
      " 44  location_name_Δήμος Θερμαϊκού               14820 non-null  int64\n",
      " 45  location_name_Δήμος Καλλινδοίων             14820 non-null  int64\n",
      " 46  location_name_Δήμος Κορώνειας Θεσσαλονίκης  14820 non-null  int64\n",
      " 47  location_name_Διόνυσος                      14820 non-null  int64\n",
      " 48  location_name_Ελευσίνα                      14820 non-null  int64\n",
      " 49  location_name_Ελληνικό - Αργυρούπολη        14820 non-null  int64\n",
      " 50  location_name_Επανομή                       14820 non-null  int64\n",
      " 51  location_name_Ευκαρπία                      14820 non-null  int64\n",
      " 52  location_name_Ζωγράφου                      14820 non-null  int64\n",
      " 53  location_name_Ηλιούπολη                     14820 non-null  int64\n",
      " 54  location_name_Θέρμη                         14820 non-null  int64\n",
      " 55  location_name_Θεσσαλονίκη                   14820 non-null  int64\n",
      " 56  location_name_Καισαριανή                    14820 non-null  int64\n",
      " 57  location_name_Καλαμαριά                     14820 non-null  int64\n",
      " 58  location_name_Καλλιθέα                      14820 non-null  int64\n",
      " 59  location_name_Κερατσίνι-Δραπετσώνα          14820 non-null  int64\n",
      " 60  location_name_Κηφισιά                       14820 non-null  int64\n",
      " 61  location_name_Κορυδαλλός                    14820 non-null  int64\n",
      " 62  location_name_Κρωπία                        14820 non-null  int64\n",
      " 63  location_name_Λαγκάδας                      14820 non-null  int64\n",
      " 64  location_name_Λαυρεωτική                    14820 non-null  int64\n",
      " 65  location_name_Λυκόβρυση Πεύκη               14820 non-null  int64\n",
      " 66  location_name_Μάνδρα - Ειδυλλία             14820 non-null  int64\n",
      " 67  location_name_Μέγαρα                        14820 non-null  int64\n",
      " 68  location_name_Μαρούσι                       14820 non-null  int64\n",
      " 69  location_name_Μηχανιώνα                     14820 non-null  int64\n",
      " 70  location_name_Μοσχάτο - Ταύρος              14820 non-null  int64\n",
      " 71  location_name_Μυγδονία                      14820 non-null  int64\n",
      " 72  location_name_Νέα Ιωνία                     14820 non-null  int64\n",
      " 73  location_name_Νέα Σμύρνη                    14820 non-null  int64\n",
      " 74  location_name_Νίκαια                        14820 non-null  int64\n",
      " 75  location_name_Νεάπολη                       14820 non-null  int64\n",
      " 76  location_name_Πέραμα                        14820 non-null  int64\n",
      " 77  location_name_Παγκράτι                      14820 non-null  int64\n",
      " 78  location_name_Παιανία                       14820 non-null  int64\n",
      " 79  location_name_Παλαιό Φάληρο                 14820 non-null  int64\n",
      " 80  location_name_Παλλήνη                       14820 non-null  int64\n",
      " 81  location_name_Παπάγου                       14820 non-null  int64\n",
      " 82  location_name_Πειραιάς                      14820 non-null  int64\n",
      " 83  location_name_Πεντέλη                       14820 non-null  int64\n",
      " 84  location_name_Περιστέρι                     14820 non-null  int64\n",
      " 85  location_name_Πετρούπολη                    14820 non-null  int64\n",
      " 86  location_name_Ραφήνα Πικέρμι                14820 non-null  int64\n",
      " 87  location_name_Σαλαμίνα                      14820 non-null  int64\n",
      " 88  location_name_Σπάτα                         14820 non-null  int64\n",
      " 89  location_name_Φιλοθέη - Ψυχικό              14820 non-null  int64\n",
      " 90  location_name_Φυλή                          14820 non-null  int64\n",
      " 91  location_name_Χαλάνδρι                      14820 non-null  int64\n",
      " 92  location_name_Χαϊδάρι                       14820 non-null  int64\n",
      " 93  location_name_Χολαργός                      14820 non-null  int64\n",
      "dtypes: int64(94)\n",
      "memory usage: 10.6 MB\n"
     ]
    }
   ],
   "source": [
    "df.info()"
   ]
  },
  {
   "cell_type": "code",
   "execution_count": 3,
   "id": "07561a79",
   "metadata": {},
   "outputs": [],
   "source": [
    "X = df.drop(columns=[\"res_price\",\"rent_price\",\"res_price_sqr\"], axis=1)\n",
    "y = df[[\"res_price\", \"rent_price\"]]\n"
   ]
  },
  {
   "cell_type": "code",
   "execution_count": 4,
   "id": "d1e88469",
   "metadata": {},
   "outputs": [
    {
     "data": {
      "text/plain": [
       "count    14820.000000\n",
       "mean         1.812213\n",
       "std          1.894661\n",
       "min          0.000000\n",
       "25%          0.000000\n",
       "50%          1.000000\n",
       "75%          3.000000\n",
       "max          8.000000\n",
       "Name: levels, dtype: float64"
      ]
     },
     "execution_count": 4,
     "metadata": {},
     "output_type": "execute_result"
    }
   ],
   "source": [
    "X[\"levels\"].describe()"
   ]
  },
  {
   "cell_type": "code",
   "execution_count": 5,
   "id": "fc52de09",
   "metadata": {},
   "outputs": [],
   "source": [
    "from sklearn.model_selection import train_test_split\n",
    "\n",
    "X_temp, X_test, y_temp, y_test = train_test_split(X, y, test_size=0.2, random_state=42)\n",
    "\n",
    "X_train, X_val, y_train, y_val = train_test_split(X_temp, y_temp, test_size=0.125, random_state=42)"
   ]
  },
  {
   "cell_type": "code",
   "execution_count": 6,
   "id": "541d2e6f",
   "metadata": {},
   "outputs": [],
   "source": [
    "y_train_rent=y_train[\"rent_price\"]\n",
    "y_train_sale=y_train[\"res_price\"]\n",
    "\n",
    "y_val_rent=y_val[\"rent_price\"]\n",
    "y_val_sale=y_val[\"res_price\"]\n",
    "\n",
    "y_test_rent=y_test[\"rent_price\"]\n",
    "y_test_sale=y_test[\"res_price\"]"
   ]
  },
  {
   "cell_type": "markdown",
   "id": "3535ba45",
   "metadata": {},
   "source": [
    "# i start data engineering here"
   ]
  },
  {
   "cell_type": "markdown",
   "id": "b0da19b2",
   "metadata": {},
   "source": [
    "## Κάνω κανονικοποίηση"
   ]
  },
  {
   "cell_type": "code",
   "execution_count": 7,
   "id": "dd439899",
   "metadata": {},
   "outputs": [],
   "source": [
    "numerical_features=X.select_dtypes(include=['float64', 'int64']).columns.tolist()"
   ]
  },
  {
   "cell_type": "code",
   "execution_count": 8,
   "id": "802eb2bf",
   "metadata": {},
   "outputs": [
    {
     "data": {
      "text/html": [
       "<div>\n",
       "<style scoped>\n",
       "    .dataframe tbody tr th:only-of-type {\n",
       "        vertical-align: middle;\n",
       "    }\n",
       "\n",
       "    .dataframe tbody tr th {\n",
       "        vertical-align: top;\n",
       "    }\n",
       "\n",
       "    .dataframe thead th {\n",
       "        text-align: right;\n",
       "    }\n",
       "</style>\n",
       "<table border=\"1\" class=\"dataframe\">\n",
       "  <thead>\n",
       "    <tr style=\"text-align: right;\">\n",
       "      <th></th>\n",
       "      <th>res_date</th>\n",
       "      <th>res_sqr</th>\n",
       "      <th>construction_year</th>\n",
       "      <th>levels</th>\n",
       "      <th>bedrooms</th>\n",
       "      <th>bathrooms</th>\n",
       "      <th>status</th>\n",
       "      <th>energyclass</th>\n",
       "      <th>auto_heating</th>\n",
       "      <th>solar</th>\n",
       "      <th>...</th>\n",
       "      <th>location_name_Περιστέρι</th>\n",
       "      <th>location_name_Πετρούπολη</th>\n",
       "      <th>location_name_Ραφήνα Πικέρμι</th>\n",
       "      <th>location_name_Σαλαμίνα</th>\n",
       "      <th>location_name_Σπάτα</th>\n",
       "      <th>location_name_Φιλοθέη - Ψυχικό</th>\n",
       "      <th>location_name_Φυλή</th>\n",
       "      <th>location_name_Χαλάνδρι</th>\n",
       "      <th>location_name_Χαϊδάρι</th>\n",
       "      <th>location_name_Χολαργός</th>\n",
       "    </tr>\n",
       "  </thead>\n",
       "  <tbody>\n",
       "    <tr>\n",
       "      <th>6014</th>\n",
       "      <td>2022</td>\n",
       "      <td>52</td>\n",
       "      <td>1967</td>\n",
       "      <td>4</td>\n",
       "      <td>1</td>\n",
       "      <td>1</td>\n",
       "      <td>6</td>\n",
       "      <td>10</td>\n",
       "      <td>0</td>\n",
       "      <td>0</td>\n",
       "      <td>...</td>\n",
       "      <td>0</td>\n",
       "      <td>0</td>\n",
       "      <td>0</td>\n",
       "      <td>0</td>\n",
       "      <td>0</td>\n",
       "      <td>0</td>\n",
       "      <td>0</td>\n",
       "      <td>0</td>\n",
       "      <td>0</td>\n",
       "      <td>0</td>\n",
       "    </tr>\n",
       "  </tbody>\n",
       "</table>\n",
       "<p>1 rows × 91 columns</p>\n",
       "</div>"
      ],
      "text/plain": [
       "      res_date  res_sqr  construction_year  levels  bedrooms  bathrooms  \\\n",
       "6014      2022       52               1967       4         1          1   \n",
       "\n",
       "      status  energyclass  auto_heating  solar  ...  location_name_Περιστέρι  \\\n",
       "6014       6           10             0      0  ...                        0   \n",
       "\n",
       "      location_name_Πετρούπολη  location_name_Ραφήνα Πικέρμι  \\\n",
       "6014                         0                             0   \n",
       "\n",
       "      location_name_Σαλαμίνα  location_name_Σπάτα  \\\n",
       "6014                       0                    0   \n",
       "\n",
       "      location_name_Φιλοθέη - Ψυχικό  location_name_Φυλή  \\\n",
       "6014                               0                   0   \n",
       "\n",
       "      location_name_Χαλάνδρι  location_name_Χαϊδάρι  location_name_Χολαργός  \n",
       "6014                       0                      0                       0  \n",
       "\n",
       "[1 rows x 91 columns]"
      ]
     },
     "execution_count": 8,
     "metadata": {},
     "output_type": "execute_result"
    }
   ],
   "source": [
    "X_train.head(1)"
   ]
  },
  {
   "cell_type": "code",
   "execution_count": 9,
   "id": "e89f13e4",
   "metadata": {},
   "outputs": [],
   "source": [
    "actual_numerical=['res_sqr',\n",
    " 'construction_year',\n",
    " 'res_date',\n",
    " 'levels',\n",
    " 'bedrooms',\n",
    " 'bathrooms']"
   ]
  },
  {
   "cell_type": "code",
   "execution_count": 10,
   "id": "579d4b6e",
   "metadata": {},
   "outputs": [],
   "source": [
    "from sklearn.preprocessing import MinMaxScaler\n",
    "\n",
    "scaler = MinMaxScaler()\n",
    "\n",
    "X_train_scaled = X_train.copy()\n",
    "X_val_scaled = X_val.copy()\n",
    "X_test_scaled = X_test.copy()\n",
    "\n",
    "\n",
    "X_train_scaled[actual_numerical]=scaler.fit_transform(X_train[actual_numerical])\n",
    "X_val_scaled[actual_numerical]=scaler.transform(X_val[actual_numerical])\n",
    "X_test_scaled[actual_numerical]=scaler.transform(X_test[actual_numerical])"
   ]
  },
  {
   "cell_type": "code",
   "execution_count": 11,
   "id": "8d83b67c",
   "metadata": {},
   "outputs": [],
   "source": [
    "X_train_scaled.to_excel('../data/x_train_data.xlsx', index=False)\n",
    "X_val_scaled.to_excel('../data/x_val_data.xlsx', index=False)\n",
    "X_test_scaled.to_excel('../data/x_test_data.xlsx', index=False)\n",
    "\n",
    "y_test_rent.to_excel('../data/y_test_rent.xlsx',index=False)\n",
    "y_train_rent.to_excel('../data/y_train_rent.xlsx',index=False)\n",
    "y_val_rent.to_excel('../data/y_val_rent.xlsx',index=False)\n",
    "\n",
    "y_test_sale.to_excel('../data/y_test_sale.xlsx',index=False)\n",
    "y_train_sale.to_excel('../data/y_train_sale.xlsx',index=False)\n",
    "y_val_sale.to_excel('../data/y_val_sale.xlsx',index=False)"
   ]
  }
 ],
 "metadata": {
  "kernelspec": {
   "display_name": "Python 3",
   "language": "python",
   "name": "python3"
  },
  "language_info": {
   "codemirror_mode": {
    "name": "ipython",
    "version": 3
   },
   "file_extension": ".py",
   "mimetype": "text/x-python",
   "name": "python",
   "nbconvert_exporter": "python",
   "pygments_lexer": "ipython3",
   "version": "3.10.11"
  }
 },
 "nbformat": 4,
 "nbformat_minor": 5
}
