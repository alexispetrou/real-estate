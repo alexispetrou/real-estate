{
 "cells": [
  {
   "cell_type": "code",
   "execution_count": 11,
   "id": "17c3b34b",
   "metadata": {},
   "outputs": [],
   "source": [
    "import pandas as pd\n",
    "\n",
    "df = pd.read_excel('../data/dataset_ready_for_pre_proc.xlsx')"
   ]
  },
  {
   "cell_type": "code",
   "execution_count": 12,
   "id": "968f9a95",
   "metadata": {},
   "outputs": [
    {
     "name": "stdout",
     "output_type": "stream",
     "text": [
      "<class 'pandas.core.frame.DataFrame'>\n",
      "RangeIndex: 15136 entries, 0 to 15135\n",
      "Data columns (total 24 columns):\n",
      " #   Column             Non-Null Count  Dtype \n",
      "---  ------             --------------  ----- \n",
      " 0   location_name      15136 non-null  object\n",
      " 1   location_region    15136 non-null  object\n",
      " 2   res_date           15136 non-null  object\n",
      " 3   res_type           15136 non-null  object\n",
      " 4   res_address        15136 non-null  object\n",
      " 5   res_price          15136 non-null  int64 \n",
      " 6   res_price_sqr      15136 non-null  int64 \n",
      " 7   res_sqr            15136 non-null  int64 \n",
      " 8   construction_year  15136 non-null  int64 \n",
      " 9   levels             15136 non-null  object\n",
      " 10  bedrooms           15136 non-null  int64 \n",
      " 11  bathrooms          15136 non-null  int64 \n",
      " 12  status             15136 non-null  object\n",
      " 13  energyclass        15136 non-null  object\n",
      " 14  auto_heating       15136 non-null  int64 \n",
      " 15  solar              15136 non-null  int64 \n",
      " 16  cooling            15136 non-null  int64 \n",
      " 17  safe_door          15136 non-null  int64 \n",
      " 18  gas                15136 non-null  int64 \n",
      " 19  fireplace          15136 non-null  int64 \n",
      " 20  furniture          15136 non-null  int64 \n",
      " 21  student            15136 non-null  int64 \n",
      " 22  parking            15136 non-null  object\n",
      " 23  rent_price         15136 non-null  int64 \n",
      "dtypes: int64(15), object(9)\n",
      "memory usage: 2.8+ MB\n"
     ]
    }
   ],
   "source": [
    "df.info()"
   ]
  },
  {
   "cell_type": "code",
   "execution_count": 14,
   "id": "07561a79",
   "metadata": {},
   "outputs": [],
   "source": [
    "X = df.drop(columns=[\"res_price\",\"rent_price\",\"res_price_sqr\"], axis=1)\n",
    "y = df[[\"res_price\", \"rent_price\"]]\n"
   ]
  },
  {
   "cell_type": "code",
   "execution_count": 15,
   "id": "fc52de09",
   "metadata": {},
   "outputs": [],
   "source": [
    "from sklearn.model_selection import train_test_split\n",
    "\n",
    "X_temp, X_test, y_temp, y_test = train_test_split(X, y, test_size=0.2, random_state=42)\n",
    "\n",
    "X_train, X_val, y_train, y_val = train_test_split(X_temp, y_temp, test_size=0.125, random_state=42)"
   ]
  },
  {
   "cell_type": "code",
   "execution_count": 16,
   "id": "541d2e6f",
   "metadata": {},
   "outputs": [],
   "source": [
    "y_train_rent=y_train[\"rent_price\"]\n",
    "y_train_sale=y_train[\"res_price\"]\n",
    "\n",
    "y_val_rent=y_val[\"rent_price\"]\n",
    "y_val_sale=y_val[\"res_price\"]\n",
    "\n",
    "y_train_rent=y_val[\"rent_price\"]\n",
    "y_train_sale=y_val[\"res_price\"]"
   ]
  }
 ],
 "metadata": {
  "kernelspec": {
   "display_name": "Python 3",
   "language": "python",
   "name": "python3"
  },
  "language_info": {
   "codemirror_mode": {
    "name": "ipython",
    "version": 3
   },
   "file_extension": ".py",
   "mimetype": "text/x-python",
   "name": "python",
   "nbconvert_exporter": "python",
   "pygments_lexer": "ipython3",
   "version": "3.10.11"
  }
 },
 "nbformat": 4,
 "nbformat_minor": 5
}
